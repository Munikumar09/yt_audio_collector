{
 "cells": [
  {
   "cell_type": "code",
   "execution_count": 2,
   "metadata": {},
   "outputs": [],
   "source": [
    "import os\n",
    "from pathlib import Path\n",
    "\n",
    "from pytube import YouTube\n",
    "\n",
    "from src.yt_audio_collector.constants import BASE_PATH, BASE_URL\n"
   ]
  },
  {
   "cell_type": "code",
   "execution_count": 5,
   "metadata": {},
   "outputs": [],
   "source": [
    "video_id = \"6cFo3PEr4zY\"\n",
    "url = f\"{BASE_URL}{video_id}\"\n",
    "you_tube = YouTube(url)\n",
    "duration = you_tube.length\n",
    "try:\n",
    "    # Fetching the audio of the video with given id\n",
    "    video = you_tube.streams.filter(only_audio=True).first()\n",
    "except Exception as exception:\n",
    "    print(exception)\n",
    "destination = BASE_PATH / \"temp\"\n",
    "# Downloading the audio in temporary file and it gives audio file\n",
    "# but with mp4(video supported format) extension which we need to\n",
    "# convert to mp3(audio supported format)\n",
    "output_file = video.download(output_path=destination)\n",
    "# Renaming the downloaded file with mp3\n",
    "new_file = destination / f\"{video_id}.mp3\"\n",
    "os.rename(output_file, new_file)"
   ]
  },
  {
   "cell_type": "code",
   "execution_count": 20,
   "metadata": {},
   "outputs": [],
   "source": [
    "from __future__ import print_function\n",
    "import numpy as np\n",
    "import librosa\n",
    "import soundfile as sf"
   ]
  },
  {
   "cell_type": "code",
   "execution_count": 14,
   "metadata": {},
   "outputs": [
    {
     "data": {
      "text/plain": [
       "<_io.BufferedRandom name='temp/result.wav'>"
      ]
     },
     "execution_count": 14,
     "metadata": {},
     "output_type": "execute_result"
    }
   ],
   "source": [
    "from os import path\n",
    "from pydub import AudioSegment\n",
    "\n",
    "input_file = \"temp/6cFo3PEr4zY.mp3\"\n",
    "output_file = \"temp/result.wav\"\n",
    "try:\n",
    "    sound = AudioSegment.from_file(input_file, 'mp3')\n",
    "except:\n",
    "    sound = AudioSegment.from_file(input_file, format='mp4')\n",
    "sound.export(output_file, format=\"wav\")\n"
   ]
  },
  {
   "cell_type": "code",
   "execution_count": 23,
   "metadata": {},
   "outputs": [],
   "source": [
    "\n",
    "y, sr = librosa.load('temp/result.wav'\n",
    "                     )\n",
    "\n",
    "\n",
    "# And compute the spectrogram magnitude and phase\n",
    "S_full, phase = librosa.magphase(librosa.stft(y))"
   ]
  },
  {
   "cell_type": "code",
   "execution_count": 24,
   "metadata": {},
   "outputs": [
    {
     "name": "stderr",
     "output_type": "stream",
     "text": [
      "/home/munikumar/miniconda3/envs/hindi-data/lib/python3.10/site-packages/sklearn/utils/extmath.py:192: RuntimeWarning: invalid value encountered in matmul\n",
      "  ret = a @ b\n"
     ]
    }
   ],
   "source": [
    "\n",
    "S_filter = librosa.decompose.nn_filter(S_full,\n",
    "                                       aggregate=np.median,\n",
    "                                       metric='cosine',\n",
    "                                       width=int(librosa.time_to_frames(2, sr=sr)))\n",
    "\n",
    "# The output of the filter shouldn't be greater than the input\n",
    "# if we assume signals are additive.  Taking the pointwise minimium\n",
    "# with the input spectrum forces this.\n",
    "S_filter = np.minimum(S_full, S_filter)\n"
   ]
  },
  {
   "cell_type": "code",
   "execution_count": 25,
   "metadata": {},
   "outputs": [],
   "source": [
    "margin_i, margin_v = 2, 10\n",
    "power = 2\n",
    "\n",
    "mask_i = librosa.util.softmask(S_filter,\n",
    "                               margin_i * (S_full - S_filter),\n",
    "                               power=power)\n",
    "\n",
    "mask_v = librosa.util.softmask(S_full - S_filter,\n",
    "                               margin_v * S_filter,\n",
    "                               power=power)\n",
    "\n",
    "# Once we have the masks, simply multiply them with the input spectrum\n",
    "# to separate the components\n",
    "\n",
    "S_foreground = mask_v * S_full\n",
    "S_background = mask_i * S_full\n"
   ]
  },
  {
   "cell_type": "code",
   "execution_count": 22,
   "metadata": {},
   "outputs": [],
   "source": [
    "new_y = librosa.istft(S_background*phase)\n",
    "sf.write('file2.wav',new_y,samplerate=sr,subtype='PCM_24')"
   ]
  },
  {
   "cell_type": "code",
   "execution_count": null,
   "metadata": {},
   "outputs": [],
   "source": []
  }
 ],
 "metadata": {
  "kernelspec": {
   "display_name": "hindi-data",
   "language": "python",
   "name": "python3"
  },
  "language_info": {
   "codemirror_mode": {
    "name": "ipython",
    "version": 3
   },
   "file_extension": ".py",
   "mimetype": "text/x-python",
   "name": "python",
   "nbconvert_exporter": "python",
   "pygments_lexer": "ipython3",
   "version": "3.10.13"
  },
  "orig_nbformat": 4
 },
 "nbformat": 4,
 "nbformat_minor": 2
}
